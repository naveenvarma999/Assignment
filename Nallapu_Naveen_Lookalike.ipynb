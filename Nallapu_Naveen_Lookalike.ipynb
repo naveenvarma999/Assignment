{
 "cells": [
  {
   "cell_type": "markdown",
   "id": "88997f16-47c7-4a4d-b04d-958f1596e52a",
   "metadata": {},
   "source": [
    ">>>> # Lookalike Model"
   ]
  },
  {
   "cell_type": "code",
   "execution_count": null,
   "id": "0b978da8-006a-4f16-a3b1-4cfbfc578528",
   "metadata": {},
   "outputs": [],
   "source": []
  },
  {
   "cell_type": "code",
   "execution_count": 53,
   "id": "fee30388-b16d-4b1b-be62-868a42edb2f4",
   "metadata": {},
   "outputs": [],
   "source": [
    "import pandas as pd\n",
    "from sklearn.metrics.pairwise import cosine_similarity, euclidean_distances\n",
    "from sklearn.preprocessing import StandardScaler"
   ]
  },
  {
   "cell_type": "code",
   "execution_count": null,
   "id": "af806c8d-b5bf-4050-b889-25373743ae09",
   "metadata": {},
   "outputs": [],
   "source": []
  },
  {
   "cell_type": "markdown",
   "id": "78600cd6-6ceb-42db-846f-39fe6161b559",
   "metadata": {},
   "source": [
    "**Loading the datasets**"
   ]
  },
  {
   "cell_type": "code",
   "execution_count": 57,
   "id": "66fd064f-734c-4424-aade-c392f77c35a6",
   "metadata": {},
   "outputs": [],
   "source": [
    "customers = pd.read_csv('Customers.csv')\n",
    "products = pd.read_csv('Products.csv')\n",
    "transactions = pd.read_csv('Transactions.csv')"
   ]
  },
  {
   "cell_type": "code",
   "execution_count": 58,
   "id": "cbb588d4-0c2f-4328-9b93-48e89f75cd87",
   "metadata": {},
   "outputs": [
    {
     "data": {
      "text/html": [
       "<div>\n",
       "<style scoped>\n",
       "    .dataframe tbody tr th:only-of-type {\n",
       "        vertical-align: middle;\n",
       "    }\n",
       "\n",
       "    .dataframe tbody tr th {\n",
       "        vertical-align: top;\n",
       "    }\n",
       "\n",
       "    .dataframe thead th {\n",
       "        text-align: right;\n",
       "    }\n",
       "</style>\n",
       "<table border=\"1\" class=\"dataframe\">\n",
       "  <thead>\n",
       "    <tr style=\"text-align: right;\">\n",
       "      <th></th>\n",
       "      <th>CustomerID</th>\n",
       "      <th>CustomerName</th>\n",
       "      <th>Region</th>\n",
       "      <th>SignupDate</th>\n",
       "    </tr>\n",
       "  </thead>\n",
       "  <tbody>\n",
       "    <tr>\n",
       "      <th>0</th>\n",
       "      <td>C0001</td>\n",
       "      <td>Lawrence Carroll</td>\n",
       "      <td>South America</td>\n",
       "      <td>2022-07-10</td>\n",
       "    </tr>\n",
       "    <tr>\n",
       "      <th>1</th>\n",
       "      <td>C0002</td>\n",
       "      <td>Elizabeth Lutz</td>\n",
       "      <td>Asia</td>\n",
       "      <td>2022-02-13</td>\n",
       "    </tr>\n",
       "    <tr>\n",
       "      <th>2</th>\n",
       "      <td>C0003</td>\n",
       "      <td>Michael Rivera</td>\n",
       "      <td>South America</td>\n",
       "      <td>2024-03-07</td>\n",
       "    </tr>\n",
       "    <tr>\n",
       "      <th>3</th>\n",
       "      <td>C0004</td>\n",
       "      <td>Kathleen Rodriguez</td>\n",
       "      <td>South America</td>\n",
       "      <td>2022-10-09</td>\n",
       "    </tr>\n",
       "    <tr>\n",
       "      <th>4</th>\n",
       "      <td>C0005</td>\n",
       "      <td>Laura Weber</td>\n",
       "      <td>Asia</td>\n",
       "      <td>2022-08-15</td>\n",
       "    </tr>\n",
       "  </tbody>\n",
       "</table>\n",
       "</div>"
      ],
      "text/plain": [
       "  CustomerID        CustomerName         Region  SignupDate\n",
       "0      C0001    Lawrence Carroll  South America  2022-07-10\n",
       "1      C0002      Elizabeth Lutz           Asia  2022-02-13\n",
       "2      C0003      Michael Rivera  South America  2024-03-07\n",
       "3      C0004  Kathleen Rodriguez  South America  2022-10-09\n",
       "4      C0005         Laura Weber           Asia  2022-08-15"
      ]
     },
     "execution_count": 58,
     "metadata": {},
     "output_type": "execute_result"
    }
   ],
   "source": [
    "customers.head()"
   ]
  },
  {
   "cell_type": "code",
   "execution_count": 59,
   "id": "a94dfced-e9f0-4c80-887a-b42a990254b2",
   "metadata": {},
   "outputs": [
    {
     "data": {
      "text/html": [
       "<div>\n",
       "<style scoped>\n",
       "    .dataframe tbody tr th:only-of-type {\n",
       "        vertical-align: middle;\n",
       "    }\n",
       "\n",
       "    .dataframe tbody tr th {\n",
       "        vertical-align: top;\n",
       "    }\n",
       "\n",
       "    .dataframe thead th {\n",
       "        text-align: right;\n",
       "    }\n",
       "</style>\n",
       "<table border=\"1\" class=\"dataframe\">\n",
       "  <thead>\n",
       "    <tr style=\"text-align: right;\">\n",
       "      <th></th>\n",
       "      <th>ProductID</th>\n",
       "      <th>ProductName</th>\n",
       "      <th>Category</th>\n",
       "      <th>Price</th>\n",
       "    </tr>\n",
       "  </thead>\n",
       "  <tbody>\n",
       "    <tr>\n",
       "      <th>0</th>\n",
       "      <td>P001</td>\n",
       "      <td>ActiveWear Biography</td>\n",
       "      <td>Books</td>\n",
       "      <td>169.30</td>\n",
       "    </tr>\n",
       "    <tr>\n",
       "      <th>1</th>\n",
       "      <td>P002</td>\n",
       "      <td>ActiveWear Smartwatch</td>\n",
       "      <td>Electronics</td>\n",
       "      <td>346.30</td>\n",
       "    </tr>\n",
       "    <tr>\n",
       "      <th>2</th>\n",
       "      <td>P003</td>\n",
       "      <td>ComfortLiving Biography</td>\n",
       "      <td>Books</td>\n",
       "      <td>44.12</td>\n",
       "    </tr>\n",
       "    <tr>\n",
       "      <th>3</th>\n",
       "      <td>P004</td>\n",
       "      <td>BookWorld Rug</td>\n",
       "      <td>Home Decor</td>\n",
       "      <td>95.69</td>\n",
       "    </tr>\n",
       "    <tr>\n",
       "      <th>4</th>\n",
       "      <td>P005</td>\n",
       "      <td>TechPro T-Shirt</td>\n",
       "      <td>Clothing</td>\n",
       "      <td>429.31</td>\n",
       "    </tr>\n",
       "  </tbody>\n",
       "</table>\n",
       "</div>"
      ],
      "text/plain": [
       "  ProductID              ProductName     Category   Price\n",
       "0      P001     ActiveWear Biography        Books  169.30\n",
       "1      P002    ActiveWear Smartwatch  Electronics  346.30\n",
       "2      P003  ComfortLiving Biography        Books   44.12\n",
       "3      P004            BookWorld Rug   Home Decor   95.69\n",
       "4      P005          TechPro T-Shirt     Clothing  429.31"
      ]
     },
     "execution_count": 59,
     "metadata": {},
     "output_type": "execute_result"
    }
   ],
   "source": [
    "products.head()"
   ]
  },
  {
   "cell_type": "code",
   "execution_count": 60,
   "id": "8f836a04-c25f-4826-8b08-679000098f0e",
   "metadata": {},
   "outputs": [
    {
     "data": {
      "text/html": [
       "<div>\n",
       "<style scoped>\n",
       "    .dataframe tbody tr th:only-of-type {\n",
       "        vertical-align: middle;\n",
       "    }\n",
       "\n",
       "    .dataframe tbody tr th {\n",
       "        vertical-align: top;\n",
       "    }\n",
       "\n",
       "    .dataframe thead th {\n",
       "        text-align: right;\n",
       "    }\n",
       "</style>\n",
       "<table border=\"1\" class=\"dataframe\">\n",
       "  <thead>\n",
       "    <tr style=\"text-align: right;\">\n",
       "      <th></th>\n",
       "      <th>TransactionID</th>\n",
       "      <th>CustomerID</th>\n",
       "      <th>ProductID</th>\n",
       "      <th>TransactionDate</th>\n",
       "      <th>Quantity</th>\n",
       "      <th>TotalValue</th>\n",
       "      <th>Price</th>\n",
       "    </tr>\n",
       "  </thead>\n",
       "  <tbody>\n",
       "    <tr>\n",
       "      <th>0</th>\n",
       "      <td>T00001</td>\n",
       "      <td>C0199</td>\n",
       "      <td>P067</td>\n",
       "      <td>2024-08-25 12:38:23</td>\n",
       "      <td>1</td>\n",
       "      <td>300.68</td>\n",
       "      <td>300.68</td>\n",
       "    </tr>\n",
       "    <tr>\n",
       "      <th>1</th>\n",
       "      <td>T00112</td>\n",
       "      <td>C0146</td>\n",
       "      <td>P067</td>\n",
       "      <td>2024-05-27 22:23:54</td>\n",
       "      <td>1</td>\n",
       "      <td>300.68</td>\n",
       "      <td>300.68</td>\n",
       "    </tr>\n",
       "    <tr>\n",
       "      <th>2</th>\n",
       "      <td>T00166</td>\n",
       "      <td>C0127</td>\n",
       "      <td>P067</td>\n",
       "      <td>2024-04-25 07:38:55</td>\n",
       "      <td>1</td>\n",
       "      <td>300.68</td>\n",
       "      <td>300.68</td>\n",
       "    </tr>\n",
       "    <tr>\n",
       "      <th>3</th>\n",
       "      <td>T00272</td>\n",
       "      <td>C0087</td>\n",
       "      <td>P067</td>\n",
       "      <td>2024-03-26 22:55:37</td>\n",
       "      <td>2</td>\n",
       "      <td>601.36</td>\n",
       "      <td>300.68</td>\n",
       "    </tr>\n",
       "    <tr>\n",
       "      <th>4</th>\n",
       "      <td>T00363</td>\n",
       "      <td>C0070</td>\n",
       "      <td>P067</td>\n",
       "      <td>2024-03-21 15:10:10</td>\n",
       "      <td>3</td>\n",
       "      <td>902.04</td>\n",
       "      <td>300.68</td>\n",
       "    </tr>\n",
       "  </tbody>\n",
       "</table>\n",
       "</div>"
      ],
      "text/plain": [
       "  TransactionID CustomerID ProductID      TransactionDate  Quantity  \\\n",
       "0        T00001      C0199      P067  2024-08-25 12:38:23         1   \n",
       "1        T00112      C0146      P067  2024-05-27 22:23:54         1   \n",
       "2        T00166      C0127      P067  2024-04-25 07:38:55         1   \n",
       "3        T00272      C0087      P067  2024-03-26 22:55:37         2   \n",
       "4        T00363      C0070      P067  2024-03-21 15:10:10         3   \n",
       "\n",
       "   TotalValue   Price  \n",
       "0      300.68  300.68  \n",
       "1      300.68  300.68  \n",
       "2      300.68  300.68  \n",
       "3      601.36  300.68  \n",
       "4      902.04  300.68  "
      ]
     },
     "execution_count": 60,
     "metadata": {},
     "output_type": "execute_result"
    }
   ],
   "source": [
    "transactions.head()"
   ]
  },
  {
   "cell_type": "code",
   "execution_count": null,
   "id": "6830ac56-757a-48d1-be43-ff8922483c6f",
   "metadata": {},
   "outputs": [],
   "source": []
  },
  {
   "cell_type": "markdown",
   "id": "468c3cc4-5549-4fe2-8a47-c029ba577d46",
   "metadata": {},
   "source": [
    "**Assuming the common column 'CustomerID' in both Customers and Transactions**"
   ]
  },
  {
   "cell_type": "code",
   "execution_count": 63,
   "id": "cbe0b02c-a66e-43d2-8f29-2562175be1c4",
   "metadata": {},
   "outputs": [],
   "source": [
    "merged_data = pd.merge(transactions, customers, on='CustomerID', how='inner')\n",
    "merged_data = pd.merge(merged_data, products, on='ProductID', how='inner')"
   ]
  },
  {
   "cell_type": "code",
   "execution_count": 64,
   "id": "998da3d6-07e7-4a8d-9df9-9ead14033e05",
   "metadata": {},
   "outputs": [],
   "source": [
    "# Aggregate total spending per customer\n",
    "customer_spending = merged_data.groupby('CustomerID').agg(\n",
    "    total_spending=('TotalValue', 'sum'),\n",
    "    avg_transaction_value=('TotalValue', 'mean'),\n",
    "    product_count=('ProductID', 'nunique')\n",
    ").reset_index()"
   ]
  },
  {
   "cell_type": "code",
   "execution_count": null,
   "id": "7ffea3ea-695f-49cf-9e56-f2995dd00ba5",
   "metadata": {},
   "outputs": [],
   "source": []
  },
  {
   "cell_type": "markdown",
   "id": "063174e0-6053-4172-9587-4ef1ace49dc3",
   "metadata": {},
   "source": [
    "**Creating product preferences by counting how many times a customer bought each product**"
   ]
  },
  {
   "cell_type": "code",
   "execution_count": 70,
   "id": "074ea91c-a703-42dc-ac82-0ee73d16cf67",
   "metadata": {},
   "outputs": [],
   "source": [
    "product_preferences = merged_data.groupby(['CustomerID', 'ProductID']).size().unstack(fill_value=0)"
   ]
  },
  {
   "cell_type": "markdown",
   "id": "84575ee7-82ed-4ba2-a20d-643e8d3c2c73",
   "metadata": {},
   "source": [
    "**Merge customer spending data with product preferences**"
   ]
  },
  {
   "cell_type": "code",
   "execution_count": 73,
   "id": "70d63d9e-09c6-4d50-aab5-528cf19e68ec",
   "metadata": {},
   "outputs": [],
   "source": [
    "customer_data = pd.merge(customer_spending, product_preferences, on='CustomerID', how='left')"
   ]
  },
  {
   "cell_type": "code",
   "execution_count": null,
   "id": "fe096d80-b19b-4b2a-9328-af0ea264503a",
   "metadata": {},
   "outputs": [],
   "source": []
  },
  {
   "cell_type": "markdown",
   "id": "037f16c7-eedf-409b-9567-9cf516dc4b0b",
   "metadata": {},
   "source": [
    "### Normalizing relevant features"
   ]
  },
  {
   "cell_type": "code",
   "execution_count": 78,
   "id": "3c577c57-4661-49bc-8a2e-cd3263329129",
   "metadata": {},
   "outputs": [],
   "source": [
    "features_to_normalize = ['total_spending', 'avg_transaction_value', 'product_count']\n",
    "scaler = StandardScaler()\n",
    "customer_data[features_to_normalize] = scaler.fit_transform(customer_data[features_to_normalize])\n",
    "\n",
    "# Cosine Similarity Calculation\n",
    "cosine_similarity_matrix = cosine_similarity(customer_data[features_to_normalize].values)\n",
    "cosine_similarity_df = pd.DataFrame(cosine_similarity_matrix, index=customer_data['CustomerID'], columns=customer_data['CustomerID'])\n",
    "\n",
    "# Euclidean Distance Calculation\n",
    "euclidean_distance_matrix = euclidean_distances(customer_data[features_to_normalize].values)\n",
    "euclidean_distance_df = pd.DataFrame(euclidean_distance_matrix, index=customer_data['CustomerID'], columns=customer_data['CustomerID'])"
   ]
  },
  {
   "cell_type": "code",
   "execution_count": null,
   "id": "025c3a08-40c5-48f4-942c-021c40f2f918",
   "metadata": {},
   "outputs": [],
   "source": []
  },
  {
   "cell_type": "markdown",
   "id": "68d8a2a8-7ebf-493c-b061-71cbf6bca963",
   "metadata": {},
   "source": [
    "**Initializing dictionaries to store the lookalike data**"
   ]
  },
  {
   "cell_type": "code",
   "execution_count": 81,
   "id": "cefab814-d251-4c75-a82f-a5c41f769e05",
   "metadata": {},
   "outputs": [],
   "source": [
    "lookalikes_cosine = {}\n",
    "lookalikes_euclidean = {}\n",
    "\n",
    "# For each customer, finding top 3 most similar customers using Cosine Similarity and Euclidean Distance\n",
    "for customer_id in customer_data['CustomerID']:\n",
    "    cosine_similarities = cosine_similarity_df[customer_id]\n",
    "    \n",
    "    # Sorting cosine similarities in descending order and getting the top 3 most similar customers\n",
    "    similar_customers_cosine = cosine_similarities.sort_values(ascending=False).iloc[1:4]\n",
    "    lookalikes_cosine[customer_id] = similar_customers_cosine.index.tolist(), similar_customers_cosine.values.tolist()\n",
    "    \n",
    "    # Euclidean distances for a given customer\n",
    "    euclidean_distances = euclidean_distance_df[customer_id]\n",
    "    \n",
    "    # Sort Euclidean distances in ascending order and getting the top 3 closest customers\n",
    "    closest_customers_euclidean = euclidean_distances.sort_values(ascending=True).iloc[1:4]\n",
    "    lookalikes_euclidean[customer_id] = closest_customers_euclidean.index.tolist(), closest_customers_euclidean.values.tolist()"
   ]
  },
  {
   "cell_type": "code",
   "execution_count": null,
   "id": "475389c5-f46a-4db3-8219-6b2946a33189",
   "metadata": {},
   "outputs": [],
   "source": []
  },
  {
   "cell_type": "markdown",
   "id": "77f188ed-330b-4799-a971-eda0438b1402",
   "metadata": {},
   "source": [
    "**Creating the Lookalike DataFrame for Cosine Similarity**"
   ]
  },
  {
   "cell_type": "code",
   "execution_count": 88,
   "id": "474ea3bc-4057-4623-a762-a978bfea4ec4",
   "metadata": {},
   "outputs": [],
   "source": [
    "lookalike_data_cosine = []\n",
    "for customer_id, (lookalike_ids, scores) in lookalikes_cosine.items():\n",
    "    row = [customer_id]  \n",
    "    for i in range(3): \n",
    "        row.extend([lookalike_ids[i], scores[i]]) \n",
    "    lookalike_data_cosine.append(row)"
   ]
  },
  {
   "cell_type": "code",
   "execution_count": null,
   "id": "a8446ae0-f348-4c0a-85ea-3b958c9f15f1",
   "metadata": {},
   "outputs": [],
   "source": []
  },
  {
   "cell_type": "markdown",
   "id": "4c5978ac-a9d7-4907-911a-16ec802f4080",
   "metadata": {},
   "source": [
    "**Create the Lookalike DataFrame for Euclidean Distance**"
   ]
  },
  {
   "cell_type": "code",
   "execution_count": 92,
   "id": "fc23a3ca-2b90-4406-828c-05691b572982",
   "metadata": {},
   "outputs": [],
   "source": [
    "lookalike_data_euclidean = []\n",
    "for customer_id, (lookalike_ids, scores) in lookalikes_euclidean.items():\n",
    "    row = [customer_id] \n",
    "    for i in range(3):\n",
    "        row.extend([lookalike_ids[i], scores[i]]) \n",
    "    lookalike_data_euclidean.append(row)"
   ]
  },
  {
   "cell_type": "code",
   "execution_count": null,
   "id": "b18e1696-7af0-4e8c-8f2f-2c65346362b2",
   "metadata": {},
   "outputs": [],
   "source": []
  },
  {
   "cell_type": "code",
   "execution_count": 94,
   "id": "f1329ec7-225d-4f2b-976e-77e33d31ccc6",
   "metadata": {},
   "outputs": [],
   "source": [
    "lookalike_df_cosine = pd.DataFrame(lookalike_data_cosine, columns=['CustomerID', 'LookalikeID1', 'Score1', 'LookalikeID2', 'Score2', 'LookalikeID3', 'Score3'])\n",
    "lookalike_df_euclidean = pd.DataFrame(lookalike_data_euclidean, columns=['CustomerID', 'LookalikeID1', 'Score1', 'LookalikeID2', 'Score2', 'LookalikeID3', 'Score3'])"
   ]
  },
  {
   "cell_type": "code",
   "execution_count": null,
   "id": "636785ff-be19-4f51-a7b6-63e82a26ccea",
   "metadata": {},
   "outputs": [],
   "source": []
  },
  {
   "cell_type": "markdown",
   "id": "58c214b9-b063-4354-b54f-eaa92c1ece91",
   "metadata": {},
   "source": [
    "**Check the lookalike DataFrame for Cosine Similarity**"
   ]
  },
  {
   "cell_type": "code",
   "execution_count": 98,
   "id": "1dfea5f8-bc47-4581-8833-827cba89c1a7",
   "metadata": {},
   "outputs": [
    {
     "name": "stdout",
     "output_type": "stream",
     "text": [
      "Lookalikes based on Cosine Similarity:\n",
      "    CustomerID LookalikeID1    Score1 LookalikeID2    Score2 LookalikeID3  \\\n",
      "0        C0001        C0137  0.996315        C0152  0.981365        C0172   \n",
      "1        C0002        C0029  0.999666        C0199  0.998948        C0010   \n",
      "2        C0003        C0178  0.999525        C0005  0.998888        C0144   \n",
      "3        C0004        C0021  0.999686        C0075  0.999451        C0067   \n",
      "4        C0005        C0073  0.999479        C0063  0.999043        C0159   \n",
      "..         ...          ...       ...          ...       ...          ...   \n",
      "194      C0196        C0006  0.993353        C0079  0.993231        C0117   \n",
      "195      C0197        C0131  0.999855        C0112  0.999390        C0130   \n",
      "196      C0198        C0058  0.998830        C0014  0.993840        C0128   \n",
      "197      C0199        C0031  0.999933        C0192  0.999030        C0002   \n",
      "198      C0200        C0018  1.000000        C0170  0.999990        C0187   \n",
      "\n",
      "       Score3  \n",
      "0    0.962110  \n",
      "1    0.998924  \n",
      "2    0.997969  \n",
      "3    0.999392  \n",
      "4    0.998895  \n",
      "..        ...  \n",
      "194  0.992940  \n",
      "195  0.998824  \n",
      "196  0.992979  \n",
      "197  0.998948  \n",
      "198  0.999988  \n",
      "\n",
      "[199 rows x 7 columns]\n"
     ]
    }
   ],
   "source": [
    "print(\"Lookalikes based on Cosine Similarity:\")\n",
    "print(lookalike_df_cosine)"
   ]
  },
  {
   "cell_type": "markdown",
   "id": "0639b6ec-6dd1-4820-8699-d2f8cbac5af3",
   "metadata": {},
   "source": [
    "**Checking the lookalike DataFrame for Euclidean Distance**"
   ]
  },
  {
   "cell_type": "code",
   "execution_count": 102,
   "id": "54310319-f85c-40f8-8a47-81b755217641",
   "metadata": {},
   "outputs": [
    {
     "name": "stdout",
     "output_type": "stream",
     "text": [
      "Lookalikes based on Euclidean Distance:\n",
      "    CustomerID LookalikeID1    Score1 LookalikeID2    Score2 LookalikeID3  \\\n",
      "0        C0001        C0137  0.022072        C0152  0.031486        C0056   \n",
      "1        C0002        C0029  0.091239        C0199  0.138324        C0031   \n",
      "2        C0003        C0178  0.019644        C0035  0.163522        C0146   \n",
      "3        C0004        C0021  0.049389        C0093  0.342971        C0173   \n",
      "4        C0005        C0073  0.039640        C0159  0.057531        C0112   \n",
      "..         ...          ...       ...          ...       ...          ...   \n",
      "194      C0196        C0168  0.481669        C0066  0.653311        C0138   \n",
      "195      C0197        C0131  0.022865        C0112  0.046513        C0036   \n",
      "196      C0198        C0128  0.345290        C0015  0.491141        C0062   \n",
      "197      C0199        C0031  0.030979        C0192  0.110906        C0002   \n",
      "198      C0200        C0018  0.023358        C0187  0.146841        C0170   \n",
      "\n",
      "       Score3  \n",
      "0    0.172380  \n",
      "1    0.169303  \n",
      "2    0.183474  \n",
      "3    0.344110  \n",
      "4    0.112636  \n",
      "..        ...  \n",
      "194  0.783713  \n",
      "195  0.076402  \n",
      "196  0.514973  \n",
      "197  0.138324  \n",
      "198  0.173947  \n",
      "\n",
      "[199 rows x 7 columns]\n"
     ]
    }
   ],
   "source": [
    "print(\"Lookalikes based on Euclidean Distance:\")\n",
    "print(lookalike_df_euclidean)"
   ]
  },
  {
   "cell_type": "code",
   "execution_count": null,
   "id": "2a2448b7-f059-4ae8-bb65-2a5156c08933",
   "metadata": {},
   "outputs": [],
   "source": []
  },
  {
   "cell_type": "markdown",
   "id": "60976e21-a4da-42e7-8206-e2009da606bc",
   "metadata": {},
   "source": [
    "### Saving the lookalike data to CSV"
   ]
  },
  {
   "cell_type": "code",
   "execution_count": 106,
   "id": "2d0006f2-a94e-4315-92cb-deca046ae9f6",
   "metadata": {},
   "outputs": [],
   "source": [
    "lookalike_df_cosine['SimilarityMetric'] = 'Cosine'\n",
    "lookalike_df_euclidean['SimilarityMetric'] = 'Euclidean'\n",
    "\n",
    "# Combine the two DataFrames\n",
    "combined_df = pd.concat([lookalike_df_cosine, lookalike_df_euclidean])\n",
    "\n",
    "# Save to a single CSV file\n",
    "combined_df.to_csv('Nallapu_Naveen_Lookalike.csv', index=False)"
   ]
  },
  {
   "cell_type": "code",
   "execution_count": null,
   "id": "46766e29-7928-47eb-8c4d-68df9dca0793",
   "metadata": {},
   "outputs": [],
   "source": []
  }
 ],
 "metadata": {
  "kernelspec": {
   "display_name": "Python 3 (ipykernel)",
   "language": "python",
   "name": "python3"
  },
  "language_info": {
   "codemirror_mode": {
    "name": "ipython",
    "version": 3
   },
   "file_extension": ".py",
   "mimetype": "text/x-python",
   "name": "python",
   "nbconvert_exporter": "python",
   "pygments_lexer": "ipython3",
   "version": "3.12.4"
  }
 },
 "nbformat": 4,
 "nbformat_minor": 5
}
